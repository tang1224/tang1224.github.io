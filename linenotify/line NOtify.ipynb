{
 "cells": [
  {
   "cell_type": "code",
   "execution_count": 8,
   "id": "6b4cde6c",
   "metadata": {},
   "outputs": [
    {
     "name": "stdout",
     "output_type": "stream",
     "text": [
      "Collecting pyecharts\n",
      "  Downloading pyecharts-2.0.2-py3-none-any.whl (146 kB)\n",
      "\u001b[K     |████████████████████████████████| 146 kB 607 kB/s eta 0:00:01\n",
      "\u001b[?25hCollecting prettytable\n",
      "  Downloading prettytable-3.6.0-py3-none-any.whl (27 kB)\n",
      "Collecting simplejson\n",
      "  Downloading simplejson-3.18.4-cp38-cp38-macosx_10_9_x86_64.whl (75 kB)\n",
      "\u001b[K     |████████████████████████████████| 75 kB 37 kB/s eta 0:00:011\n",
      "\u001b[?25hRequirement already satisfied: jinja2 in /opt/anaconda3/lib/python3.8/site-packages (from pyecharts) (2.11.3)\n",
      "Requirement already satisfied: MarkupSafe>=0.23 in /opt/anaconda3/lib/python3.8/site-packages (from jinja2->pyecharts) (1.1.1)\n",
      "Requirement already satisfied: wcwidth in /opt/anaconda3/lib/python3.8/site-packages (from prettytable->pyecharts) (0.2.5)\n",
      "Installing collected packages: simplejson, prettytable, pyecharts\n",
      "Successfully installed prettytable-3.6.0 pyecharts-2.0.2 simplejson-3.18.4\n",
      "Note: you may need to restart the kernel to use updated packages.\n"
     ]
    }
   ],
   "source": [
    "pip install pyecharts -U"
   ]
  },
  {
   "cell_type": "code",
   "execution_count": null,
   "id": "d7b54533",
   "metadata": {},
   "outputs": [],
   "source": [
    "import pyecharts.options as opts\n",
    "from pyecharts.charts import Gauge\n",
    "\n",
    "\"\"\"\n",
    "Gallery 使用 pyecharts 1.1.0\n",
    "参考地址: https://gallery.echartsjs.com/editor.html?c=xH1vxib94f\n",
    "目前无法实现的功能:\n",
    "1、暂无\n",
    "\"\"\"\n",
    "\n",
    "(\n",
    "    Gauge()\n",
    "    .add(series_name=\"业务指标\", data_pair=[[\"完成率\", 55.5]])\n",
    "    .set_global_opts(\n",
    "        legend_opts=opts.LegendOpts(is_show=False),\n",
    "        tooltip_opts=opts.TooltipOpts(is_show=True, formatter=\"{a} <br/>{b} : {c}%\"),\n",
    "    )\n",
    "    .set_series_opts(\n",
    "        axisline_opts=opts.AxisLineOpts(\n",
    "            linestyle_opts=opts.LineStyleOpts(\n",
    "                color=[[0.3, \"#67e0e3\"], [0.7, \"#37a2da\"], [1, \"#fd666d\"]], width=30\n",
    "            )\n",
    "        )\n",
    "    )\n",
    "    .render(\"gauge_change_color.html\")\n",
    ")"
   ]
  },
  {
   "cell_type": "code",
   "execution_count": 26,
   "id": "65b1789f",
   "metadata": {},
   "outputs": [],
   "source": [
    "\n",
    "from pyecharts import options as opts\n",
    "from pyecharts.charts import Gauge\n",
    "\n",
    "c = (\n",
    "    Gauge()\n",
    "    .add(\"\", [(\"完成率\", 66.6)], radius=\"50%\")\n",
    "    .set_global_opts(title_opts=opts.TitleOpts(title=\"Gauge-修改 Radius 为 50%\"))\n",
    "    .render(\"gauge_change_radius.html\")\n",
    ")\n"
   ]
  },
  {
   "cell_type": "code",
   "execution_count": 4,
   "id": "371b7e48",
   "metadata": {},
   "outputs": [],
   "source": [
    "from pyecharts import options as opts\n",
    "from pyecharts.charts import Gauge\n",
    "\n",
    "c = (\n",
    "    Gauge()\n",
    "    .add(\n",
    "        \"业务指标\",\n",
    "        [(\"完成率\", 55.5)],\n",
    "        axisline_opts=opts.AxisLineOpts(\n",
    "            linestyle_opts=opts.LineStyleOpts(\n",
    "                color=[(0.3, \"#67e0e3\"), (0.7, \"#37a2da\"), (1, \"#fd666d\")], width=30\n",
    "            )\n",
    "        ),\n",
    "    )\n",
    "    .set_global_opts(\n",
    "        title_opts=opts.TitleOpts(title=\"Gauge-不同颜色\"),\n",
    "        legend_opts=opts.LegendOpts(is_show=False),\n",
    "    )\n",
    "    .render(\"gauge_color.html\")\n",
    ")\n",
    "\n"
   ]
  },
  {
   "cell_type": "code",
   "execution_count": 5,
   "id": "82c10f6b",
   "metadata": {},
   "outputs": [],
   "source": [
    "from pyecharts import options as opts\n",
    "from pyecharts.charts import Gauge\n",
    "\n",
    "c = (\n",
    "    Gauge()\n",
    "    .add(\n",
    "        \"\",\n",
    "        [(\"完成率\", 66.6)],\n",
    "        title_label_opts=opts.LabelOpts(\n",
    "            font_size=40, color=\"blue\", font_family=\"Microsoft YaHei\"\n",
    "        ),\n",
    "    )\n",
    "    .set_global_opts(title_opts=opts.TitleOpts(title=\"Gauge-改变轮盘内的字体\"))\n",
    "    .render(\"gauge_label_title_setting.html\")\n",
    ")"
   ]
  },
  {
   "cell_type": "code",
   "execution_count": 36,
   "id": "6cd29d52",
   "metadata": {},
   "outputs": [],
   "source": [
    "from pyecharts import options as opts\n",
    "from pyecharts.charts import Gauge\n",
    "\n",
    "c = (\n",
    "    Gauge()\n",
    "    .add(\n",
    "        \"业务指标\",\n",
    "        [(\"完成率\", 55.5)],\n",
    "        split_number=4,\n",
    "        axisline_opts=opts.AxisLineOpts(\n",
    "            linestyle_opts=opts.LineStyleOpts(\n",
    "                color=[(0.3, \"#67e0e3\"), (0.7, \"#37a2da\"), (1, \"#fd666d\")], width=30\n",
    "            )\n",
    "        ),\n",
    "        detail_label_opts=opts.LabelOpts(formatter=\"{value}\"),\n",
    "    )\n",
    "    .set_global_opts(\n",
    "        title_opts=opts.TitleOpts(title=\"Gauge-分割段数-Label\"),\n",
    "        legend_opts=opts.LegendOpts(is_show=False),\n",
    "    )\n",
    "    .render(\"gauge_splitnum_label.html\")\n",
    ")"
   ]
  },
  {
   "cell_type": "code",
   "execution_count": 9,
   "id": "a2974293",
   "metadata": {},
   "outputs": [
    {
     "data": {
      "text/plain": [
       "'/Users/riiiiiiis/linenotify/gauge_change_color1.html'"
      ]
     },
     "execution_count": 9,
     "metadata": {},
     "output_type": "execute_result"
    }
   ],
   "source": [
    "## Gauge\n",
    "import pyecharts.options as opts\n",
    "from pyecharts.charts import Gauge\n",
    "\n",
    "gauge = (\n",
    "    Gauge(init_opts=opts.InitOpts(width=\"1600px\", height=\"800px\"))\n",
    "    .add(series_name=\"\", data_pair=[(\"完成率\", 68.5)], detail_label_opts=opts.GaugeDetailOpts(offset_center=[\"0%\", \"30%\"]))\n",
    "    .set_global_opts(\n",
    "        legend_opts=opts.LegendOpts(is_show=False),\n",
    "        tooltip_opts=opts.TooltipOpts(is_show=True, formatter=\"{a} <br/>{b} : {c}%\"),\n",
    "    )\n",
    "    .set_series_opts(\n",
    "        axisline_opts=opts.AxisLineOpts(\n",
    "            linestyle_opts=opts.LineStyleOpts(\n",
    "                 color=[(0.24, \"#dd825c\"), (0.49, \"#e5c065\"),(0.74, \"#d9de68\"), (1, \"#85dc61\")], width=30\n",
    "            )\n",
    "        )\n",
    "    )\n",
    ")\n",
    "gauge.render(\"gauge_change_color1.html\")"
   ]
  },
  {
   "cell_type": "code",
   "execution_count": 37,
   "id": "bf75acc5",
   "metadata": {},
   "outputs": [],
   "source": [
    "##儀表版\n",
    "from pyecharts import options as opts\n",
    "from pyecharts.charts import Gauge\n",
    "\n",
    "c = (\n",
    "    Gauge()\n",
    "    .add(\"貪婪指數\", [(\"Max\",66)], radius=\"80%\",split_number=4)\n",
    "    .set_series_opts(    \n",
    "        axisline_opts=opts.AxisLineOpts(\n",
    "            linestyle_opts=opts.LineStyleOpts(\n",
    "                color=[(0.24, \"#dd825c\"), (0.49, \"#e5c065\"),(0.74, \"#d9de68\"), (1, \"#85dc61\")], width=55\n",
    "            )\n",
    "        )\n",
    "        ,detail_label_opts=opts.LabelOpts(formatter=\"{value}\")\n",
    "    )\n",
    "    .render(\"gauge_FGindex.html\")\n",
    "\n",
    ")\n",
    "\n"
   ]
  },
  {
   "cell_type": "code",
   "execution_count": 13,
   "id": "f1268cac",
   "metadata": {},
   "outputs": [
    {
     "ename": "AttributeError",
     "evalue": "'str' object has no attribute 'get'",
     "output_type": "error",
     "traceback": [
      "\u001b[0;31m---------------------------------------------------------------------------\u001b[0m",
      "\u001b[0;31mAttributeError\u001b[0m                            Traceback (most recent call last)",
      "\u001b[0;32m<ipython-input-13-57092467aef7>\u001b[0m in \u001b[0;36m<module>\u001b[0;34m\u001b[0m\n\u001b[1;32m     17\u001b[0m \u001b[0mFGvalue\u001b[0m \u001b[0;34m=\u001b[0m \u001b[0mdata\u001b[0m\u001b[0;34m[\u001b[0m\u001b[0;34m'value_classification'\u001b[0m\u001b[0;34m]\u001b[0m\u001b[0;34m\u001b[0m\u001b[0;34m\u001b[0m\u001b[0m\n\u001b[1;32m     18\u001b[0m \u001b[0;34m\u001b[0m\u001b[0m\n\u001b[0;32m---> 19\u001b[0;31m \u001b[0mgauge\u001b[0m \u001b[0;34m=\u001b[0m \u001b[0mGauge\u001b[0m\u001b[0;34m(\u001b[0m\u001b[0;34m\"Fear and Greedy Index\"\u001b[0m\u001b[0;34m)\u001b[0m  \u001b[0;31m#標題\u001b[0m\u001b[0;34m\u001b[0m\u001b[0;34m\u001b[0m\u001b[0m\n\u001b[0m\u001b[1;32m     20\u001b[0m \u001b[0mgauge\u001b[0m\u001b[0;34m.\u001b[0m\u001b[0madd\u001b[0m\u001b[0;34m(\u001b[0m\u001b[0;34m\"貪婪指數\"\u001b[0m\u001b[0;34m,\u001b[0m \u001b[0;34m\"Max\"\u001b[0m\u001b[0;34m,\u001b[0m\u001b[0mint\u001b[0m\u001b[0;34m(\u001b[0m\u001b[0mfng_value\u001b[0m\u001b[0;34m)\u001b[0m\u001b[0;34m)\u001b[0m\u001b[0;34m\u001b[0m\u001b[0;34m\u001b[0m\u001b[0m\n\u001b[1;32m     21\u001b[0m \u001b[0mgauge\u001b[0m\u001b[0;34m\u001b[0m\u001b[0;34m\u001b[0m\u001b[0m\n",
      "\u001b[0;32m/opt/anaconda3/lib/python3.8/site-packages/pyecharts/charts/chart.py\u001b[0m in \u001b[0;36m__init__\u001b[0;34m(self, init_opts)\u001b[0m\n\u001b[1;32m     12\u001b[0m             \u001b[0mtemp_opts\u001b[0m\u001b[0;34m.\u001b[0m\u001b[0mupdate\u001b[0m\u001b[0;34m(\u001b[0m\u001b[0;34m**\u001b[0m\u001b[0minit_opts\u001b[0m\u001b[0;34m)\u001b[0m\u001b[0;34m\u001b[0m\u001b[0;34m\u001b[0m\u001b[0m\n\u001b[1;32m     13\u001b[0m             \u001b[0minit_opts\u001b[0m \u001b[0;34m=\u001b[0m \u001b[0mtemp_opts\u001b[0m\u001b[0;34m\u001b[0m\u001b[0;34m\u001b[0m\u001b[0m\n\u001b[0;32m---> 14\u001b[0;31m         \u001b[0msuper\u001b[0m\u001b[0;34m(\u001b[0m\u001b[0;34m)\u001b[0m\u001b[0;34m.\u001b[0m\u001b[0m__init__\u001b[0m\u001b[0;34m(\u001b[0m\u001b[0minit_opts\u001b[0m\u001b[0;34m=\u001b[0m\u001b[0minit_opts\u001b[0m\u001b[0;34m)\u001b[0m\u001b[0;34m\u001b[0m\u001b[0;34m\u001b[0m\u001b[0m\n\u001b[0m\u001b[1;32m     15\u001b[0m         \u001b[0;31m# Change to Echarts V5 default color list\u001b[0m\u001b[0;34m\u001b[0m\u001b[0;34m\u001b[0m\u001b[0;34m\u001b[0m\u001b[0m\n\u001b[1;32m     16\u001b[0m         self.colors = (\n",
      "\u001b[0;32m/opt/anaconda3/lib/python3.8/site-packages/pyecharts/charts/base.py\u001b[0m in \u001b[0;36m__init__\u001b[0;34m(self, init_opts)\u001b[0m\n\u001b[1;32m     26\u001b[0m             \u001b[0m_opts\u001b[0m \u001b[0;34m=\u001b[0m \u001b[0minit_opts\u001b[0m\u001b[0;34m.\u001b[0m\u001b[0mopts\u001b[0m\u001b[0;34m\u001b[0m\u001b[0;34m\u001b[0m\u001b[0m\n\u001b[1;32m     27\u001b[0m \u001b[0;34m\u001b[0m\u001b[0m\n\u001b[0;32m---> 28\u001b[0;31m         \u001b[0mself\u001b[0m\u001b[0;34m.\u001b[0m\u001b[0mwidth\u001b[0m \u001b[0;34m=\u001b[0m \u001b[0m_opts\u001b[0m\u001b[0;34m.\u001b[0m\u001b[0mget\u001b[0m\u001b[0;34m(\u001b[0m\u001b[0;34m\"width\"\u001b[0m\u001b[0;34m,\u001b[0m \u001b[0;34m\"900px\"\u001b[0m\u001b[0;34m)\u001b[0m\u001b[0;34m\u001b[0m\u001b[0;34m\u001b[0m\u001b[0m\n\u001b[0m\u001b[1;32m     29\u001b[0m         \u001b[0mself\u001b[0m\u001b[0;34m.\u001b[0m\u001b[0mheight\u001b[0m \u001b[0;34m=\u001b[0m \u001b[0m_opts\u001b[0m\u001b[0;34m.\u001b[0m\u001b[0mget\u001b[0m\u001b[0;34m(\u001b[0m\u001b[0;34m\"height\"\u001b[0m\u001b[0;34m,\u001b[0m \u001b[0;34m\"500px\"\u001b[0m\u001b[0;34m)\u001b[0m\u001b[0;34m\u001b[0m\u001b[0;34m\u001b[0m\u001b[0m\n\u001b[1;32m     30\u001b[0m         self.horizontal_center = (\n",
      "\u001b[0;31mAttributeError\u001b[0m: 'str' object has no attribute 'get'"
     ]
    }
   ],
   "source": [
    "import requests\n",
    "import json\n",
    "import time\n",
    "import pyecharts.options as opts\n",
    "from pyecharts.charts import Gauge\n",
    "\n",
    "\n",
    "\n",
    "response = requests.get(\"https://api.alternative.me/fng/\")\n",
    "data = response.json()[\"data\"][0] #{'value': '68', 'value_classification': 'Greed', 'timestamp': '1679356800', 'time_until_update': '32532'}\n",
    "\n",
    "#解析JSON數據，獲取恐懼與貪婪指數以及時間戳。\n",
    "fng_value = data['value'] #68\n",
    "timestamp = data[\"timestamp\"] #1679356800\n",
    "struct_time = time.localtime(int(timestamp)) # 轉成時間元組 localtime裡放的是時間戳，而根據當地時間，或是伺服器放置的時區\n",
    "timeString = time.strftime(\"%Y-%m-%d %H:%M:%S\", struct_time) # 轉成字串\n",
    "FGvalue = data['value_classification']\n",
    "\n",
    "gauge = Gauge(\"Fear and Greedy Index\")  #標題\n",
    "gauge.add(\"貪婪指數\", \"Max\",int(fng_value))\n",
    "gauge.render(\"GFindex_gauge.html\")\n",
    "\n",
    "# 設置恐懼指數的閾值\n",
    "fear_threshold = 20\n",
    "greed_threshold = 60\n",
    "\n",
    "# 定時器間隔，單位為秒\n",
    "interval = 4 * 60 * 60\n",
    "\n",
    "while True:\n",
    "\n",
    "    if int(fng_value) < int(fear_threshold) or int(fng_value) > int(greed_threshold):\n",
    "        headers = {\n",
    "            \"Authorization\": \"Bearer \" + \"F9qtXe8HqvgIVnyQxLWwHKw46606iQIDs9zia79G4Hz\",\n",
    "            \"Content-Type\": \"application/x-www-form-urlencoded\"\n",
    "        }\n",
    "        params = {\"message\": \"༄別人恐懼我貪婪༄\"+\"美國時間：\" + timeString +\"，恐懼指數為 ⇱ \" + fng_value + \"⇲，現在市場情緒 ▍\"+FGvalue+\"  ▍\"}\n",
    "        r = requests.post(\"https://notify-api.line.me/api/notify\",\n",
    "                      headers=headers, params=params)\n",
    "        print(r.status_code)\n",
    "        \n",
    "    # 等待一段時間後再次執行\n",
    "    time.sleep(int(interval))\n"
   ]
  },
  {
   "cell_type": "code",
   "execution_count": null,
   "id": "e3ff0619",
   "metadata": {},
   "outputs": [],
   "source": [
    "# import time\n",
    "#gm_time = time.gmtime()\n",
    "#timeString = time.strftime(\"%Y-%m-%d %H:%M:%S\", gm_time) # 轉成字串\n",
    "#print(timeString)\n"
   ]
  }
 ],
 "metadata": {
  "kernelspec": {
   "display_name": "Python 3",
   "language": "python",
   "name": "python3"
  },
  "language_info": {
   "codemirror_mode": {
    "name": "ipython",
    "version": 3
   },
   "file_extension": ".py",
   "mimetype": "text/x-python",
   "name": "python",
   "nbconvert_exporter": "python",
   "pygments_lexer": "ipython3",
   "version": "3.8.8"
  }
 },
 "nbformat": 4,
 "nbformat_minor": 5
}
